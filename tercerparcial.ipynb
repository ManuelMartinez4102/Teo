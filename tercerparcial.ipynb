{
  "cells": [
    {
      "cell_type": "code",
      "execution_count": null,
      "metadata": {
        "id": "wMsyJIIk1LqJ"
      },
      "outputs": [],
      "source": [
        "print(\"Alumno: Jose manuel martinez castillo\")"
      ]
    },
    {
      "cell_type": "markdown",
      "metadata": {
        "id": "mzyKRGZpBP1I"
      },
      "source": [
        "Proyecto Ver 4.0\n"
      ]
    },
    {
      "cell_type": "markdown",
      "source": [
        "##Librerias."
      ],
      "metadata": {
        "id": "vCcCh8iRvbgl"
      }
    },
    {
      "cell_type": "code",
      "source": [
        "import random\n",
        "from collections import Counter\n",
        "import heapq\n",
        "import hashlib\n",
        "\n",
        "# Clase para representar cada nodo en el árbol de Huffman\n",
        "class NodoHuffman:\n",
        "    def __init__(self, caracter, frecuencia):\n",
        "        self.caracter = caracter\n",
        "        self.frecuencia = frecuencia\n",
        "        self.izquierdo = None\n",
        "        self.derecho = None\n",
        "\n",
        "    # Define cómo se comparan los nodos (necesario para la cola de prioridad)\n",
        "    def __lt__(self, other):\n",
        "        return self.frecuencia < other.frecuencia\n",
        "\n",
        "# Función para calcular las frecuencias de los hashes de los caracteres\n",
        "def calcular_frecuencias(hashes):\n",
        "    return Counter(hashes.values())\n",
        "\n",
        "# Función para construir el árbol de Huffman basado en las frecuencias\n",
        "def construir_arbol_huffman(frecuencias):\n",
        "    # Crear una cola de prioridad con los nodos iniciales\n",
        "    cola_prioridad = [NodoHuffman(hash, frecuencia) for hash, frecuencia in frecuencias.items()]\n",
        "    heapq.heapify(cola_prioridad)\n",
        "\n",
        "    # Combinar nodos hasta que solo quede uno, formando el árbol de Huffman\n",
        "    while len(cola_prioridad) > 1:\n",
        "        nodo1 = heapq.heappop(cola_prioridad)\n",
        "        nodo2 = heapq.heappop(cola_prioridad)\n",
        "        nuevo_nodo = NodoHuffman(None, nodo1.frecuencia + nodo2.frecuencia)\n",
        "        nuevo_nodo.izquierdo = nodo1\n",
        "        nuevo_nodo.derecho = nodo2\n",
        "        heapq.heappush(cola_prioridad, nuevo_nodo)\n",
        "\n",
        "    return cola_prioridad[0]\n",
        "\n",
        "# Función para obtener los hashes SHA-256 de cada carácter en la cadena\n",
        "def hash_caracteres(cadena):\n",
        "    return {c: hashlib.sha256(c.encode()).hexdigest() for c in set(cadena)}\n",
        "\n",
        "# Función para mostrar los hashes de cada carácter del mensaje\n",
        "def mostrar_hashes(cadena, hashes):\n",
        "    for c in cadena:\n",
        "        print(f\"Carácter: {c}, Hash: {hashes[c]}\")\n",
        "\n",
        "# Función para codificar una cadena usando Huffman\n",
        "def codificar_huffman(cadena, hashes):\n",
        "    frecuencias = calcular_frecuencias(hashes)\n",
        "    arbol = construir_arbol_huffman(frecuencias)\n",
        "    codigos = {}\n",
        "    generar_codigos(arbol, \"\", codigos)\n",
        "    mensaje_codificado = \"\".join(codigos[hashes[c]] for c in cadena)\n",
        "    return mensaje_codificado, codigos\n",
        "\n",
        "# Función recursiva para generar los códigos de Huffman\n",
        "def generar_codigos(nodo, codigo_actual, codigos):\n",
        "    if nodo.caracter is not None:\n",
        "        codigos[nodo.caracter] = codigo_actual\n",
        "    if nodo.izquierdo is not None:\n",
        "        generar_codigos(nodo.izquierdo, codigo_actual + \"0\", codigos)\n",
        "    if nodo.derecho is not None:\n",
        "        generar_codigos(nodo.derecho, codigo_actual + \"1\", codigos)\n",
        "\n",
        "# Función para mostrar la tabla de correspondencia entre caracteres, hashes y códigos de Huffman\n",
        "def mostrar_tabla_codigos(hashes, codigos):\n",
        "    print(\"Carácter | Hash SHA-256 | Código Huffman\")\n",
        "    for caracter, hash in hashes.items():\n",
        "        codigo = codigos.get(hash, \"\")\n",
        "        print(f\"{caracter} | {hash} | {codigo}\")\n",
        "\n",
        "# Función para decodificar una cadena codificada con Huffman\n",
        "def decodificar_huffman(cadena_codificada, codigos, hashes_invertidos):\n",
        "    mensaje_decodificado = \"\"\n",
        "    codigo_actual = \"\"\n",
        "    for bit in cadena_codificada:\n",
        "        codigo_actual += bit\n",
        "        if codigo_actual in codigos.values():\n",
        "            hash_caracter = [k for k, v in codigos.items() if v == codigo_actual][0]\n",
        "            if hash_caracter in hashes_invertidos:\n",
        "                mensaje_decodificado += hashes_invertidos[hash_caracter]\n",
        "                codigo_actual = \"\"\n",
        "    return mensaje_decodificado\n",
        "\n",
        "# Función para recopilar mensajes aleatorios\n",
        "def recopilar_mensajes():\n",
        "    mensajes = [\"Hola\", \"Bien\", \"Vale\", \"Okay\", \"Wee\", \"Vee\"]\n",
        "    mensaje = random.choice(mensajes)\n",
        "    mensajes_recopilados = {\"mensaje\": mensaje}\n",
        "    return mensajes_recopilados\n",
        "\n",
        "# Función para simular la transmisión del mensaje\n",
        "def transmicion_de_mensaje(mensajes_recopilados, hashes):\n",
        "    mostrar_hashes(mensajes_recopilados[\"mensaje\"], hashes)\n",
        "    mensaje_codificado, codigos = codificar_huffman(mensajes_recopilados[\"mensaje\"], hashes)\n",
        "    mostrar_tabla_codigos(hashes, codigos)\n",
        "    return mensaje_codificado, codigos\n",
        "#def canal\n",
        "#este se elimino porque ya estaba calificado el parcial pasado asi que solo comento por que pues ya no sale , saludos.\n",
        "\n",
        "# Función para simular la recepción y decodificación del mensaje\n",
        "def receptor(mensaje_codificado, codigos, hashes):\n",
        "    hashes_invertidos = {v: k for k, v in hashes.items()}\n",
        "    mensaje_decodificado = decodificar_huffman(mensaje_codificado, codigos, hashes_invertidos)\n",
        "    return mensaje_decodificado\n",
        "\n",
        "# Flujo principal del programa\n",
        "mensaje_a_mandar = recopilar_mensajes()\n",
        "hashes = hash_caracteres(mensaje_a_mandar[\"mensaje\"])\n",
        "mensaje_transmitido, codigos = transmicion_de_mensaje(mensaje_a_mandar, hashes)\n",
        "datos_decodificados = receptor(mensaje_transmitido, codigos, hashes)\n",
        "\n",
        "print(f\"Mensaje original: {mensaje_a_mandar['mensaje']}\")\n",
        "print(f\"Mensaje codificado: {mensaje_transmitido}\")\n",
        "print(f\"Mensaje decodificado: {datos_decodificados}\")\n"
      ],
      "metadata": {
        "id": "Sm0UGcZjsZw6"
      },
      "execution_count": null,
      "outputs": []
    }
  ],
  "metadata": {
    "colab": {
      "provenance": []
    },
    "kernelspec": {
      "display_name": "Python 3",
      "name": "python3"
    },
    "language_info": {
      "name": "python"
    }
  },
  "nbformat": 4,
  "nbformat_minor": 0
}